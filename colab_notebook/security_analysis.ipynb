{
 "cells": [
  {
   "cell_type": "code",
   "execution_count": 2,
   "metadata": {
    "colab": {
     "base_uri": "https://localhost:8080/"
    },
    "executionInfo": {
     "elapsed": 1376,
     "status": "ok",
     "timestamp": 1726637707915,
     "user": {
      "displayName": "Animesh Awasthi",
      "userId": "06245988644800937794"
     },
     "user_tz": -330
    },
    "id": "C7HxsK2PkEN9",
    "outputId": "0fcee8de-f026-4d7a-901c-855db91c9dab"
   },
   "outputs": [
    {
     "name": "stdout",
     "output_type": "stream",
     "text": [
      "HTTPS is enabled.\n",
      "Login links found: []\n",
      "Signup links found: []\n",
      "Session ID is short or not random, which might be a security risk.\n",
      "Session cookie not found, indicating possible issues with session management.\n",
      "Unexpected response status code, review access control mechanisms.\n",
      "Strict-Transport-Security is present, which enhances security.\n",
      "Content-Security-Policy is present, which enhances security.\n",
      "X-Content-Type-Options is present, which enhances security.\n",
      "X-Frame-Options is present, which enhances security.\n"
     ]
    }
   ],
   "source": [
    "import requests\n",
    "from bs4 import BeautifulSoup\n",
    "\n",
    "# Function to check if the URL uses HTTPS for secure communication\n",
    "def check_https(url):\n",
    "    if url.startswith('https'):\n",
    "        print(\"HTTPS is enabled.\")\n",
    "    else:\n",
    "        print(\"HTTPS is not enabled. Consider using HTTPS for better security.\")\n",
    "\n",
    "# Function to find login or signup links in the webpage\n",
    "def find_login_signup_links(base_url):\n",
    "    response = requests.get(base_url)\n",
    "    soup = BeautifulSoup(response.text, 'html.parser')\n",
    "\n",
    "    login_links = []\n",
    "    signup_links = []\n",
    "\n",
    "    # Loop through all anchor tags to check for login or signup-related links\n",
    "    for link in soup.find_all('a', href=True):\n",
    "        href = link['href']\n",
    "        if 'login' in href.lower():\n",
    "            login_links.append(href)\n",
    "        if 'signup' in href.lower() or 'register' in href.lower():\n",
    "            signup_links.append(href)\n",
    "\n",
    "    return login_links, signup_links\n",
    "\n",
    "# Function to analyze login form structure\n",
    "def analyze_login_form(url):\n",
    "    response = requests.get(url)\n",
    "    soup = BeautifulSoup(response.text, 'html.parser')\n",
    "\n",
    "    # Find all input fields in the login form\n",
    "    inputs = soup.find_all('input')\n",
    "    for input_field in inputs:\n",
    "        print(f\"Input name: {input_field.get('name')}, type: {input_field.get('type')}\")\n",
    "\n",
    "    # Check for CAPTCHA protection\n",
    "    captcha = soup.find('div', {'class': 'g-recaptcha'})\n",
    "    if captcha:\n",
    "        print(\"CAPTCHA is present, indicating added security.\")\n",
    "    else:\n",
    "        print(\"CAPTCHA is not present, which might make brute force attacks easier.\")\n",
    "\n",
    "# Function to inspect cookies and authentication tokens\n",
    "def inspect_cookies_and_tokens(session, login_url, username, password):\n",
    "    login_payload = {\n",
    "        'username': username,\n",
    "        'password': password\n",
    "    }\n",
    "    login_response = session.post(login_url, data=login_payload)\n",
    "\n",
    "    # Inspect cookies for security attributes\n",
    "    for cookie in session.cookies:\n",
    "        print(f\"Cookie: {cookie.name}, Secure: {cookie.secure}, HttpOnly: {cookie.has_nonstandard_attr('HttpOnly')}\")\n",
    "\n",
    "    # Check if JWT tokens are used in authentication\n",
    "    auth_header = login_response.headers.get('Authorization')\n",
    "    if auth_header and 'Bearer' in auth_header:\n",
    "        print(\"JWT token is used for authentication.\")\n",
    "    else:\n",
    "        print(\"JWT token is not used. Authentication method needs review.\")\n",
    "\n",
    "# Function to analyze session management security\n",
    "def analyze_session_management(session):\n",
    "    # Check the length and randomness of the session ID\n",
    "    session_id = session.cookies.get('sessionid')\n",
    "    if session_id and len(session_id) > 20:\n",
    "        print(\"Session ID is long and likely random, improving security.\")\n",
    "    else:\n",
    "        print(\"Session ID is short or not random, which might be a security risk.\")\n",
    "\n",
    "    # Check session expiration settings\n",
    "    session_cookie = session.cookies.get('sessionid', domain='bekushal.com')\n",
    "    if session_cookie:\n",
    "        session_expiry = session_cookie.expires\n",
    "        if session_expiry:\n",
    "            print(f\"Session expires at: {session_expiry}, which is a good security practice.\")\n",
    "        else:\n",
    "            print(\"Session expiration is not set, which might indicate a security risk.\")\n",
    "    else:\n",
    "        print(\"Session cookie not found, indicating possible issues with session management.\")\n",
    "\n",
    "# Function to perform authorization checks\n",
    "def authorization_checks(session, protected_url):\n",
    "    protected_response = session.get(protected_url)\n",
    "\n",
    "    # Check if access is properly restricted\n",
    "    if protected_response.status_code == 403:\n",
    "        print(\"Access is correctly restricted based on user roles.\")\n",
    "    elif protected_response.status_code == 200:\n",
    "        print(\"Access is granted. Ensure that authorization checks are properly implemented.\")\n",
    "    else:\n",
    "        print(\"Unexpected response status code, review access control mechanisms.\")\n",
    "\n",
    "# Function to review important HTTP security headers\n",
    "def review_http_headers(response):\n",
    "    headers = response.headers\n",
    "\n",
    "    security_headers = [\n",
    "        'Strict-Transport-Security',\n",
    "        'Content-Security-Policy',\n",
    "        'X-Content-Type-Options',\n",
    "        'X-Frame-Options'\n",
    "    ]\n",
    "\n",
    "    # Check if essential security headers are present\n",
    "    for header in security_headers:\n",
    "        if header in headers:\n",
    "            print(f\"{header} is present, which enhances security.\")\n",
    "        else:\n",
    "            print(f\"{header} is missing, consider adding it for better security.\")\n",
    "\n",
    "# Main function to run all security checks\n",
    "def main():\n",
    "    base_url = 'https://amazon.in'  # Change this to the target website\n",
    "    session = requests.Session()\n",
    "\n",
    "    # Step 1: Check if HTTPS is enabled\n",
    "    check_https(base_url)\n",
    "\n",
    "    # Step 2: Identify login and signup links\n",
    "    login_links, signup_links = find_login_signup_links(base_url)\n",
    "    print(f\"Login links found: {login_links}\")\n",
    "    print(f\"Signup links found: {signup_links}\")\n",
    "\n",
    "    # Step 3: Analyze login form if login page is found\n",
    "    if login_links:\n",
    "        analyze_login_form(base_url + login_links[0])\n",
    "\n",
    "    # Step 4: Inspect cookies and authentication tokens\n",
    "    if login_links:\n",
    "        username = 'your_username'  # Replace with actual username\n",
    "        password = 'your_password'  # Replace with actual password\n",
    "        inspect_cookies_and_tokens(session, base_url + login_links[0], username, password)\n",
    "\n",
    "    # Step 5: Check session management security\n",
    "    analyze_session_management(session)\n",
    "\n",
    "    # Step 6: Perform authorization checks (Ensure correct access control)\n",
    "    protected_url = base_url + '/protected'  # Update with actual protected resource URL\n",
    "    authorization_checks(session, protected_url)\n",
    "\n",
    "    # Step 7: Review HTTP security headers\n",
    "    response = session.get(base_url)\n",
    "    review_http_headers(response)\n",
    "\n",
    "if __name__ == \"__main__\":\n",
    "    main()\n"
   ]
  },
  {
   "cell_type": "code",
   "execution_count": 12,
   "metadata": {
    "colab": {
     "base_uri": "https://localhost:8080/"
    },
    "executionInfo": {
     "elapsed": 635,
     "status": "ok",
     "timestamp": 1726638237323,
     "user": {
      "displayName": "Animesh Awasthi",
      "userId": "06245988644800937794"
     },
     "user_tz": -330
    },
    "id": "T94kNxmJp3pV",
    "outputId": "becce9fb-0f96-478c-f7d0-e7bd20cc1bc7"
   },
   "outputs": [
    {
     "name": "stdout",
     "output_type": "stream",
     "text": [
      "Emails: []\n",
      "Phone Numbers: []\n"
     ]
    },
    {
     "name": "stderr",
     "output_type": "stream",
     "text": [
      "<ipython-input-12-c5d4151b2cff>:18: DeprecationWarning: The 'text' argument to find()-type methods is deprecated. Use 'string' instead.\n",
      "  privacy_policy = soup.find('a', href=True, text=re.compile(r'Privacy Policy', re.I))\n"
     ]
    }
   ],
   "source": [
    "import requests\n",
    "from bs4 import BeautifulSoup\n",
    "import re\n",
    "\n",
    "url = 'https://sitare.org'\n",
    "response = requests.get(url)\n",
    "soup = BeautifulSoup(response.text, 'html.parser')\n",
    "\n",
    "# Extract emails\n",
    "emails = re.findall(r'\\b[A-Za-z0-9._%+-]+@[A-Za-z0-9.-]+\\.[A-Z|a-z]{2,}\\b', soup.text)\n",
    "print('Emails:', emails)\n",
    "\n",
    "# Extract phone numbers\n",
    "phone_numbers = re.findall(r'\\b\\d{10}\\b', soup.text)\n",
    "print('Phone Numbers:', phone_numbers)\n",
    "\n",
    "# Extract privacy policy URL\n",
    "privacy_policy = soup.find('a', href=True, text=re.compile(r'Privacy Policy', re.I))\n",
    "if privacy_policy:\n",
    "    privacy_policy_url = privacy_policy['href']\n",
    "    print(f'Privacy Policy URL: {privacy_policy_url}')\n"
   ]
  },
  {
   "cell_type": "code",
   "execution_count": null,
   "metadata": {
    "id": "7pilyvlzoogT"
   },
   "outputs": [],
   "source": []
  }
 ],
 "metadata": {
  "colab": {
   "authorship_tag": "ABX9TyMU8k6Oac+wVQH1xPMV+OFd",
   "provenance": []
  },
  "kernelspec": {
   "display_name": "base",
   "language": "python",
   "name": "python3"
  },
  "language_info": {
   "codemirror_mode": {
    "name": "ipython",
    "version": 3
   },
   "file_extension": ".py",
   "mimetype": "text/x-python",
   "name": "python",
   "nbconvert_exporter": "python",
   "pygments_lexer": "ipython3",
   "version": "3.9.13"
  }
 },
 "nbformat": 4,
 "nbformat_minor": 0
}
