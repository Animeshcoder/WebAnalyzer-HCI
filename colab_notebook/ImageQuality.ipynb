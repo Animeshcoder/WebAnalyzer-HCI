{
 "cells": [
  {
   "cell_type": "code",
   "execution_count": 1,
   "metadata": {
    "executionInfo": {
     "elapsed": 520,
     "status": "ok",
     "timestamp": 1727792172295,
     "user": {
      "displayName": "Animesh Awasthi",
      "userId": "06245988644800937794"
     },
     "user_tz": -330
    },
    "id": "Iagn_6cGvtiQ"
   },
   "outputs": [],
   "source": [
    "import requests\n",
    "from bs4 import BeautifulSoup\n",
    "\n",
    "def fetch_webpage(url):\n",
    "    response = requests.get(url)\n",
    "    if response.status_code == 200:\n",
    "        return response.text\n",
    "    else:\n",
    "        return None\n",
    "\n",
    "def parse_html(html_content):\n",
    "    soup = BeautifulSoup(html_content, 'html.parser')\n",
    "    return soup\n"
   ]
  },
  {
   "cell_type": "code",
   "execution_count": 2,
   "metadata": {
    "executionInfo": {
     "elapsed": 6,
     "status": "ok",
     "timestamp": 1727792173011,
     "user": {
      "displayName": "Animesh Awasthi",
      "userId": "06245988644800937794"
     },
     "user_tz": -330
    },
    "id": "mInDajUAv6bR"
   },
   "outputs": [],
   "source": [
    "def extract_images(soup):\n",
    "    images = soup.find_all('img')\n",
    "    image_info = []\n",
    "    for img in images:\n",
    "        src = img.get('src')\n",
    "        if src:\n",
    "            format = src.split('.')[-1].lower()\n",
    "            image_info.append({'src': src, 'format': format})\n",
    "    return image_info\n"
   ]
  },
  {
   "cell_type": "code",
   "execution_count": 3,
   "metadata": {
    "executionInfo": {
     "elapsed": 4,
     "status": "ok",
     "timestamp": 1727792173011,
     "user": {
      "displayName": "Animesh Awasthi",
      "userId": "06245988644800937794"
     },
     "user_tz": -330
    },
    "id": "ib628gNYv8u1"
   },
   "outputs": [],
   "source": [
    "def evaluate_image_formats(image_info):\n",
    "    format_scores = {\n",
    "        'webp': 10,\n",
    "        'avif': 10,\n",
    "        'png': 7,\n",
    "        'jpg': 5,\n",
    "        'jpeg': 5,\n",
    "        'gif': 4,\n",
    "        'svg': 9,\n",
    "        'heic': 8,\n",
    "        'heif': 8\n",
    "    }\n",
    "    evaluation = []\n",
    "    for img in image_info:\n",
    "        format = img['format']\n",
    "        score = format_scores.get(format, 0)\n",
    "        evaluation.append({'src': img['src'], 'format': format, 'score': score})\n",
    "    return evaluation\n"
   ]
  },
  {
   "cell_type": "code",
   "execution_count": 4,
   "metadata": {
    "colab": {
     "base_uri": "https://localhost:8080/"
    },
    "executionInfo": {
     "elapsed": 12001,
     "status": "ok",
     "timestamp": 1727792186317,
     "user": {
      "displayName": "Animesh Awasthi",
      "userId": "06245988644800937794"
     },
     "user_tz": -330
    },
    "id": "NTz4yZ4DzKpQ",
    "outputId": "33d230c9-e7a6-46ec-d175-acc36d72e66a"
   },
   "outputs": [
    {
     "name": "stdout",
     "output_type": "stream",
     "text": [
      "Enter the URL: https://www.bekushal.com/\n",
      "Image: /data/assets/img/yoga-8429980_1280.png, Format: png, Score: 7\n",
      "Image: /data/assets/img/about.jpeg, Format: jpeg, Score: 5\n"
     ]
    }
   ],
   "source": [
    "def main(url):\n",
    "    html_content = fetch_webpage(url)\n",
    "    if html_content:\n",
    "        soup = parse_html(html_content)\n",
    "        image_info = extract_images(soup)\n",
    "        evaluation = evaluate_image_formats(image_info)\n",
    "        for img in evaluation:\n",
    "            print(f\"Image: {img['src']}, Format: {img['format']}, Score: {img['score']}\")\n",
    "    else:\n",
    "        print(\"Failed to fetch the webpage.\")\n",
    "\n",
    "if __name__ == \"__main__\":\n",
    "    url = input(\"Enter the URL: \")\n",
    "    main(url)\n"
   ]
  }
 ],
 "metadata": {
  "colab": {
   "authorship_tag": "ABX9TyMHtvXEgMk6fWq47ub96ySj",
   "provenance": []
  },
  "kernelspec": {
   "display_name": "base",
   "language": "python",
   "name": "python3"
  },
  "language_info": {
   "codemirror_mode": {
    "name": "ipython",
    "version": 3
   },
   "file_extension": ".py",
   "mimetype": "text/x-python",
   "name": "python",
   "nbconvert_exporter": "python",
   "pygments_lexer": "ipython3",
   "version": "3.9.13"
  }
 },
 "nbformat": 4,
 "nbformat_minor": 0
}
